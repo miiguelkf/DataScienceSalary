{
 "cells": [
  {
   "cell_type": "code",
   "execution_count": 1,
   "metadata": {},
   "outputs": [],
   "source": [
    "import pandas as pd\n",
    "import matplotlib.pyplot as plt\n",
    "import numpy as np"
   ]
  },
  {
   "cell_type": "code",
   "execution_count": 2,
   "metadata": {},
   "outputs": [],
   "source": [
    "df = pd.read_csv('glassdoor_data_eda.csv')"
   ]
  },
  {
   "cell_type": "code",
   "execution_count": 3,
   "metadata": {},
   "outputs": [],
   "source": [
    "# Selection Columns that are correlated to the Salary to the salary\n",
    "df = df[[\n",
    "        'Rating', 'Size', 'Type of ownership', 'Industry', 'Sector',\n",
    "       'Revenue', 'avg_salary', 'job_type', 'seniority', 'state',\n",
    "       'sas_flag','xgboost_flag','scikit_flag','pandas_flag','aws_flag','redshift_flag', \\\n",
    "        'apache_flag','spark_flag','hadoop_flag','numpy_flag','scipy_flag','pyspark_flag','linux_flag', \\\n",
    "        'jupyter_flag','sql_flag','cloud_flag','python_flag','phd_flag','tableau_flag'\n",
    "       ]]"
   ]
  },
  {
   "cell_type": "code",
   "execution_count": 4,
   "metadata": {},
   "outputs": [],
   "source": [
    "# Converting to object so they can be dummied\n",
    "columns = ['sas_flag','xgboost_flag','scikit_flag','pandas_flag','aws_flag','redshift_flag', \\\n",
    "           'apache_flag','spark_flag','hadoop_flag','numpy_flag','scipy_flag','pyspark_flag','linux_flag',\\\n",
    "           'jupyter_flag','sql_flag','cloud_flag','python_flag','phd_flag','tableau_flag']\n",
    "df[columns]= df[columns].astype(object)"
   ]
  },
  {
   "cell_type": "code",
   "execution_count": 5,
   "metadata": {},
   "outputs": [],
   "source": [
    "# Dropping rows with null numeric column\n",
    "df = df.dropna(subset=['Rating'])"
   ]
  },
  {
   "cell_type": "code",
   "execution_count": 6,
   "metadata": {},
   "outputs": [],
   "source": [
    "# Encoding categorical variables\n",
    "df = pd.get_dummies(df)"
   ]
  },
  {
   "cell_type": "code",
   "execution_count": 7,
   "metadata": {},
   "outputs": [],
   "source": [
    "from sklearn.model_selection import train_test_split\n",
    "from sklearn.model_selection import cross_val_score\n",
    "from sklearn.metrics import mean_absolute_error\n",
    "from sklearn.preprocessing import MinMaxScaler"
   ]
  },
  {
   "cell_type": "code",
   "execution_count": 8,
   "metadata": {},
   "outputs": [],
   "source": [
    "scaler = MinMaxScaler()\n",
    "df['Rating'] = scaler.fit_transform(df['Rating'].values.reshape(-1, 1))"
   ]
  },
  {
   "cell_type": "code",
   "execution_count": 9,
   "metadata": {
    "tags": []
   },
   "outputs": [
    {
     "output_type": "stream",
     "name": "stdout",
     "text": "Train size: (682, 220) \nTest size: (171, 220)\n"
    }
   ],
   "source": [
    "X = df.drop('avg_salary', axis=1)\n",
    "y = df['avg_salary'].values\n",
    "\n",
    "X_train, X_test, y_train, y_test = train_test_split(X, y, test_size=0.2, random_state=42)\n",
    "\n",
    "print('Train size:', X_train.shape, '\\nTest size:', X_test.shape  )"
   ]
  },
  {
   "cell_type": "code",
   "execution_count": 10,
   "metadata": {
    "tags": []
   },
   "outputs": [
    {
     "output_type": "stream",
     "name": "stdout",
     "text": "Train error:  [-3.43277538e+11 -1.55904914e+11 -9.66232867e+11] \nTest error:  18230897648.240772\n"
    }
   ],
   "source": [
    "# Linear Regression\n",
    "from sklearn.linear_model import LinearRegression\n",
    "lr = LinearRegression()\n",
    "lr.fit(X_train, y_train)\n",
    "print('Train error: ', cross_val_score(lr, X_train, y_train, cv=3, scoring='neg_mean_absolute_error'), \\\n",
    "     '\\nTest error: ', mean_absolute_error(y_test, lr.predict(X_test)))"
   ]
  },
  {
   "cell_type": "code",
   "execution_count": 11,
   "metadata": {
    "tags": []
   },
   "outputs": [
    {
     "output_type": "stream",
     "name": "stdout",
     "text": "Train error:  [-22.55745614 -24.75330396 -21.41101322] \nTest error:  20.046198830409356\n"
    }
   ],
   "source": [
    "# KN\n",
    "from sklearn.neighbors import KNeighborsRegressor\n",
    "knn = KNeighborsRegressor()\n",
    "knn.fit(X_train, y_train)\n",
    "print('Train error: ', cross_val_score(knn, X_train, y_train, cv=3, scoring='neg_mean_absolute_error'), \\\n",
    "     '\\nTest error: ', mean_absolute_error(y_test, knn.predict(X_test)))"
   ]
  },
  {
   "cell_type": "code",
   "execution_count": 12,
   "metadata": {
    "tags": []
   },
   "outputs": [
    {
     "output_type": "stream",
     "name": "stdout",
     "text": "Train error:  [-21.96418129 -23.14977974 -26.55837004] \nTest error:  20.282651072124757\n"
    }
   ],
   "source": [
    "# Decision Tree\n",
    "from sklearn.tree import DecisionTreeRegressor\n",
    "dtree = DecisionTreeRegressor(random_state=1)\n",
    "dtree.fit(X_train, y_train)\n",
    "print('Train error: ', cross_val_score(dtree, X_train, y_train, cv=3, scoring='neg_mean_absolute_error'), \\\n",
    "     '\\nTest error: ', mean_absolute_error(y_test, dtree.predict(X_test)))"
   ]
  },
  {
   "cell_type": "code",
   "execution_count": 13,
   "metadata": {
    "tags": []
   },
   "outputs": [
    {
     "output_type": "stream",
     "name": "stdout",
     "text": "Train error:  [-19.0368898  -17.84595888 -18.02843367] \nTest error:  16.332686909825068\n"
    }
   ],
   "source": [
    "# Random Forest\n",
    "from sklearn.ensemble import RandomForestRegressor\n",
    "rf = RandomForestRegressor(random_state=1)\n",
    "rf.fit(X_train, y_train)\n",
    "print('Train error: ', cross_val_score(rf, X_train, y_train, cv=3, scoring='neg_mean_absolute_error'), \\\n",
    "     '\\nTest error: ', mean_absolute_error(y_test, rf.predict(X_test)))"
   ]
  },
  {
   "cell_type": "code",
   "execution_count": 14,
   "metadata": {},
   "outputs": [],
   "source": [
    "# Random Searching for RandomForest\n",
    "from sklearn.model_selection import RandomizedSearchCV\n",
    "n_estimators = [int(x) for x in np.linspace(start = 200, stop = 2000, num = 10)]\n",
    "max_features = ['auto', 'sqrt']\n",
    "max_depth = [int(x) for x in np.linspace(10, 110, num = 11)]\n",
    "max_depth.append(None)\n",
    "min_samples_split = [2, 5, 10]\n",
    "min_samples_leaf = [1, 2, 4]\n",
    "bootstrap = [True, False]\n",
    "random_grid = {'n_estimators': n_estimators,\n",
    "                'max_features': max_features,\n",
    "                'max_depth': max_depth,\n",
    "                'min_samples_split': min_samples_split,\n",
    "                'min_samples_leaf': min_samples_leaf,\n",
    "                'bootstrap': bootstrap}\n"
   ]
  },
  {
   "cell_type": "code",
   "execution_count": 15,
   "metadata": {
    "tags": []
   },
   "outputs": [
    {
     "output_type": "stream",
     "name": "stdout",
     "text": "Fitting 3 folds for each of 200 candidates, totalling 600 fits\n[Parallel(n_jobs=-1)]: Using backend LokyBackend with 4 concurrent workers.\n[Parallel(n_jobs=-1)]: Done  33 tasks      | elapsed:  1.2min\n[Parallel(n_jobs=-1)]: Done 154 tasks      | elapsed:  5.2min\n[Parallel(n_jobs=-1)]: Done 357 tasks      | elapsed: 11.9min\n[Parallel(n_jobs=-1)]: Done 600 out of 600 | elapsed: 22.1min finished\n"
    },
    {
     "output_type": "execute_result",
     "data": {
      "text/plain": "RandomizedSearchCV(cv=3, estimator=RandomForestRegressor(), n_iter=200,\n                   n_jobs=-1,\n                   param_distributions={'bootstrap': [True, False],\n                                        'max_depth': [10, 20, 30, 40, 50, 60,\n                                                      70, 80, 90, 100, 110,\n                                                      None],\n                                        'max_features': ['auto', 'sqrt'],\n                                        'min_samples_leaf': [1, 2, 4],\n                                        'min_samples_split': [2, 5, 10],\n                                        'n_estimators': [200, 400, 600, 800,\n                                                         1000, 1200, 1400, 1600,\n                                                         1800, 2000]},\n                   random_state=42, scoring='neg_mean_absolute_error',\n                   verbose=2)"
     },
     "metadata": {},
     "execution_count": 15
    }
   ],
   "source": [
    "rf = RandomForestRegressor()\n",
    "rf_random = RandomizedSearchCV(estimator = rf, param_distributions = random_grid, n_iter = 200, \n",
    "                               cv = 3, verbose=2, random_state=42, n_jobs = -1, scoring='neg_mean_absolute_error')\n",
    "rf_random.fit(X_train, y_train)"
   ]
  },
  {
   "cell_type": "code",
   "execution_count": 18,
   "metadata": {},
   "outputs": [
    {
     "output_type": "execute_result",
     "data": {
      "text/plain": "16.332372215652555"
     },
     "metadata": {},
     "execution_count": 18
    }
   ],
   "source": [
    "mean_absolute_error(y_test, rf_random.best_estimator_.predict(X_test))"
   ]
  },
  {
   "cell_type": "code",
   "execution_count": 19,
   "metadata": {},
   "outputs": [],
   "source": [
    "# Saving the model \n",
    "import pickle\n",
    "with open('random_forest_model.pkl', 'wb') as f:\n",
    "    pickle.dump(rf_random.best_estimator_, f)"
   ]
  }
 ],
 "metadata": {
  "hide_input": false,
  "kernelspec": {
   "display_name": "Python 3.7.4 64-bit",
   "language": "python",
   "name": "python_defaultSpec_1603048752473"
  },
  "language_info": {
   "codemirror_mode": {
    "name": "ipython",
    "version": 3
   },
   "file_extension": ".py",
   "mimetype": "text/x-python",
   "name": "python",
   "nbconvert_exporter": "python",
   "pygments_lexer": "ipython3",
   "version": "3.7.4-final"
  }
 },
 "nbformat": 4,
 "nbformat_minor": 4
}