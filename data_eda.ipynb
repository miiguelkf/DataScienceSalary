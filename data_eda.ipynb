{
 "cells": [
  {
   "cell_type": "code",
   "execution_count": null,
   "metadata": {},
   "outputs": [],
   "source": [
    "import pandas as pd\n",
    "import matplotlib.pyplot as plt\n",
    "import seaborn as sns\n",
    "import numpy as np\n",
    "import warnings\n",
    "warnings.filterwarnings('ignore')"
   ]
  },
  {
   "cell_type": "code",
   "execution_count": null,
   "metadata": {},
   "outputs": [],
   "source": [
    "df = pd.read_csv('glassdoor_data_cleaned.csv')\n",
    "df.head()"
   ]
  },
  {
   "cell_type": "code",
   "execution_count": null,
   "metadata": {},
   "outputs": [],
   "source": [
    "df.shape"
   ]
  },
  {
   "cell_type": "code",
   "execution_count": null,
   "metadata": {},
   "outputs": [],
   "source": [
    "df.isnull().sum().sort_values(ascending=False)"
   ]
  },
  {
   "cell_type": "markdown",
   "metadata": {},
   "source": [
    "## Job Title"
   ]
  },
  {
   "cell_type": "code",
   "execution_count": null,
   "metadata": {},
   "outputs": [],
   "source": [
    "df['Job Title'].value_counts().reset_index().set_index('index')"
   ]
  },
  {
   "cell_type": "code",
   "execution_count": null,
   "metadata": {},
   "outputs": [],
   "source": [
    "def job_type(job_title):\n",
    "    if 'data scientist' in job_title.lower() or 'data science' in job_title.lower():\n",
    "        return 'data scientist'\n",
    "    elif 'data engineer' in job_title.lower() or 'data engineering' in job_title.lower():\n",
    "        return 'data engineer'\n",
    "    elif 'data analyst' in job_title.lower() or 'data analytics' in job_title.lower():\n",
    "        return 'data analyst'\n",
    "    elif 'business intelligence' in job_title.lower():\n",
    "        return 'business intelligence'\n",
    "    elif 'machine learning' in job_title.lower():\n",
    "        return 'machine learning'\n",
    "    else:\n",
    "        return 'other'"
   ]
  },
  {
   "cell_type": "code",
   "execution_count": null,
   "metadata": {},
   "outputs": [],
   "source": [
    "def seniority(title):\n",
    "    if 'manager' in title.lower():\n",
    "        return 'manager'\n",
    "    elif 'director' in title.lower():\n",
    "        return 'director'\n",
    "    elif 'sr' in title.lower() or 'senior' in title.lower() or 'lead' in title.lower() or 'principal' in title.lower():\n",
    "        return 'senior'\n",
    "    elif 'analyst' in title.lower():\n",
    "        return 'analyst'\n",
    "    else:\n",
    "        return 'other'"
   ]
  },
  {
   "cell_type": "code",
   "execution_count": null,
   "metadata": {},
   "outputs": [],
   "source": [
    "df['job_type'] = df['Job Title'].apply(job_type)\n",
    "df['seniority'] = df['Job Title'].apply(seniority)"
   ]
  },
  {
   "cell_type": "code",
   "execution_count": null,
   "metadata": {
    "tags": []
   },
   "outputs": [],
   "source": [
    "df['job_type'].value_counts().reset_index().set_index('index')"
   ]
  },
  {
   "cell_type": "code",
   "execution_count": null,
   "metadata": {},
   "outputs": [],
   "source": [
    "df['seniority'].value_counts().reset_index().set_index('index').reset_index()"
   ]
  },
  {
   "cell_type": "code",
   "execution_count": null,
   "metadata": {},
   "outputs": [],
   "source": [
    "fig, axs = plt.subplots(1,2,figsize=(20,6))\n",
    "\n",
    "axs[0].set_title('Avg Salary per Job Type')\n",
    "df.groupby(by=['job_type']).mean()['avg_salary'].sort_values(ascending = False).plot(kind='line', marker='o', ax = axs[0])\n",
    "\n",
    "axs[1].set_title('Avg Salary per Job Seniority')\n",
    "df.groupby(by=['seniority']).mean()['avg_salary'].sort_values(ascending = False).plot(kind='line', marker='o', ax=axs[1])\n",
    "\n",
    "sns.despine()"
   ]
  },
  {
   "cell_type": "markdown",
   "metadata": {},
   "source": [
    "## Job Description"
   ]
  },
  {
   "cell_type": "code",
   "execution_count": null,
   "metadata": {
    "tags": []
   },
   "outputs": [],
   "source": [
    "from sklearn.feature_extraction.text import CountVectorizer\n",
    "import nltk\n",
    "import re\n",
    "nltk.download('stopwords')\n",
    "from nltk.corpus import stopwords"
   ]
  },
  {
   "cell_type": "code",
   "execution_count": null,
   "metadata": {},
   "outputs": [],
   "source": [
    "stop_words = set(stopwords.words('english'))\n",
    "def clean_text(text):\n",
    "    text = re.sub('[^a-zA-Z]', ' ', text).lower()\n",
    "    words = [w for w in text.split() if not w in stop_words]\n",
    "    text = ' '.join(words)\n",
    "    return text"
   ]
  },
  {
   "cell_type": "code",
   "execution_count": null,
   "metadata": {},
   "outputs": [],
   "source": [
    "df['cleaned_description'] = df['Job Description'].apply(clean_text)"
   ]
  },
  {
   "cell_type": "code",
   "execution_count": null,
   "metadata": {},
   "outputs": [],
   "source": [
    "cv = CountVectorizer(ngram_range=(1, 2), min_df = 0.1, max_df= 0.9)\n",
    "cv.fit(df['cleaned_description'].values);"
   ]
  },
  {
   "cell_type": "code",
   "execution_count": null,
   "metadata": {},
   "outputs": [],
   "source": [
    "d = cv.vocabulary_\n",
    "d = {k: v for k, v in sorted(d.items(), key=lambda item: item[1], reverse=True)}\n",
    "d[:100]"
   ]
  },
  {
   "cell_type": "code",
   "execution_count": null,
   "metadata": {},
   "outputs": [],
   "source": [
    "'''\n",
    "requiremens for job:\n",
    "    -SAS\n",
    "    -XGBOOST\n",
    "    -SCIKIT\n",
    "    -PANDAS\n",
    "    -AWS\n",
    "    -REDSHIFT\n",
    "    -APACHE\n",
    "    -SPARK\n",
    "    -HADOOP\n",
    "    -NUMPY\n",
    "    -SCIPY\n",
    "    -PYSPARK\n",
    "    -LINUX\n",
    "    -JUPYTER\n",
    "    -SQL\n",
    "    -CLOUD\n",
    "    -PYTHON\n",
    "    -R\n",
    "    -MATHEMATICS\n",
    "    -STATISTICS\n",
    "    -PHD\n",
    "    -TABLEAU\n",
    "''';"
   ]
  },
  {
   "cell_type": "code",
   "execution_count": null,
   "metadata": {},
   "outputs": [],
   "source": [
    "df['sas_flag'] = df['Job Description'].apply(lambda x: 1 if 'sas' in x.lower() else 0)\n",
    "df['xgboost_flag'] = df['Job Description'].apply(lambda x: 1 if 'xgboost' in x.lower() else 0)\n",
    "df['scikit_flag'] = df['Job Description'].apply(lambda x: 1 if 'scikit' in x.lower() else 0)\n",
    "df['pandas_flag'] = df['Job Description'].apply(lambda x: 1 if 'pandas' in x.lower() else 0)\n",
    "df['aws_flag'] = df['Job Description'].apply(lambda x: 1 if 'aws' in x.lower() else 0)\n",
    "df['redshift_flag'] = df['Job Description'].apply(lambda x: 1 if 'redshift' in x.lower() else 0)\n",
    "df['apache_flag'] = df['Job Description'].apply(lambda x: 1 if 'apache' in x.lower() else 0)\n",
    "df['spark_flag'] = df['Job Description'].apply(lambda x: 1 if 'spark' in x.lower() else 0)\n",
    "df['hadoop_flag'] = df['Job Description'].apply(lambda x: 1 if 'hadoop' in x.lower() else 0)\n",
    "df['numpy_flag'] = df['Job Description'].apply(lambda x: 1 if 'numpy' in x.lower() else 0)\n",
    "df['scipy_flag'] = df['Job Description'].apply(lambda x: 1 if 'scipy' in x.lower() else 0)\n",
    "df['pyspark_flag'] = df['Job Description'].apply(lambda x: 1 if 'pyspark' in x.lower() else 0)\n",
    "df['linux_flag'] = df['Job Description'].apply(lambda x: 1 if 'linux' in x.lower() else 0)\n",
    "df['jupyter_flag'] = df['Job Description'].apply(lambda x: 1 if 'jupyter' in x.lower() else 0)\n",
    "df['sql_flag'] = df['Job Description'].apply(lambda x: 1 if 'sql' in x.lower() else 0)\n",
    "df['cloud_flag'] = df['Job Description'].apply(lambda x: 1 if 'cloud' in x.lower() else 0)\n",
    "df['python_flag'] = df['Job Description'].apply(lambda x: 1 if 'python' in x.lower() else 0)\n",
    "df['phd_flag'] = df['Job Description'].apply(lambda x: 1 if 'phd' in x.lower() else 0)\n",
    "df['tableau_flag'] = df['Job Description'].apply(lambda x: 1 if 'tableau' in x.lower() else 0)"
   ]
  },
  {
   "cell_type": "code",
   "execution_count": null,
   "metadata": {},
   "outputs": [],
   "source": [
    "columns = ['sas_flag','xgboost_flag','scikit_flag','pandas_flag','aws_flag','redshift_flag', \\\n",
    "           'apache_flag','spark_flag','hadoop_flag','numpy_flag','scipy_flag','pyspark_flag','linux_flag',\\\n",
    "           'jupyter_flag','sql_flag','cloud_flag','python_flag','phd_flag','tableau_flag']"
   ]
  },
  {
   "cell_type": "code",
   "execution_count": null,
   "metadata": {},
   "outputs": [],
   "source": [
    "plt.figure(figsize=(10,4))\n",
    "plt.title('Number of positive flags in dataframe')\n",
    "df[columns].sum().sort_values(ascending=False).plot(kind='bar')\n",
    "sns.despine()"
   ]
  },
  {
   "cell_type": "code",
   "execution_count": null,
   "metadata": {},
   "outputs": [],
   "source": [
    "fig, axs = plt.subplots(nrows=5, ncols=4, figsize=(16,14))\n",
    "\n",
    "for i, col in enumerate(columns):\n",
    "    sns.boxplot(data=df, x=col, y='avg_salary', ax=axs[i//4,i%4])\n",
    "    sns.despine()\n",
    "    \n",
    "fig.tight_layout()\n"
   ]
  },
  {
   "cell_type": "code",
   "execution_count": null,
   "metadata": {},
   "outputs": [],
   "source": [
    "df['len_description'] = df['Job Description'].apply(lambda x: len(x))"
   ]
  },
  {
   "cell_type": "code",
   "execution_count": null,
   "metadata": {},
   "outputs": [],
   "source": [
    "sns.distplot(df['len_description'], kde=False, bins=15)\n",
    "sns.despine()"
   ]
  },
  {
   "cell_type": "code",
   "execution_count": null,
   "metadata": {},
   "outputs": [],
   "source": [
    "plt.figure(figsize=(20,4))\n",
    "plt.title('Avg Salary per Job Len')\n",
    "df.groupby('len_description').mean()['avg_salary'].plot(kind='line', marker='o')\n",
    "sns.despine()"
   ]
  },
  {
   "cell_type": "markdown",
   "metadata": {},
   "source": [
    "## Rating"
   ]
  },
  {
   "cell_type": "code",
   "execution_count": null,
   "metadata": {},
   "outputs": [],
   "source": [
    "sns.distplot(df['Rating'], kde=False, bins=15)\n",
    "sns.despine()"
   ]
  },
  {
   "cell_type": "code",
   "execution_count": null,
   "metadata": {},
   "outputs": [],
   "source": [
    "plt.figure(figsize=(10,4))\n",
    "plt.title('Avg Salary per Rating')\n",
    "df.groupby('Rating').mean()['avg_salary'].plot(kind='line', marker='o')\n",
    "sns.despine()"
   ]
  },
  {
   "cell_type": "markdown",
   "metadata": {},
   "source": [
    "## Location"
   ]
  },
  {
   "cell_type": "code",
   "execution_count": null,
   "metadata": {},
   "outputs": [],
   "source": [
    "df['state'] = df['Location'].apply(lambda x: x.split(',')[1].strip())\n",
    "df['city'] = df['Location'].apply(lambda x: x.split(',')[0].strip())"
   ]
  },
  {
   "cell_type": "code",
   "execution_count": null,
   "metadata": {
    "tags": []
   },
   "outputs": [],
   "source": [
    "print( df.state.unique(), '\\n\\n', df.city.unique() )"
   ]
  },
  {
   "cell_type": "code",
   "execution_count": null,
   "metadata": {},
   "outputs": [],
   "source": [
    "# Fixing\n",
    "df[df['state'] == 'Los Angeles']['state'] = 'CA'"
   ]
  },
  {
   "cell_type": "code",
   "execution_count": null,
   "metadata": {},
   "outputs": [],
   "source": [
    "fig, axs = plt.subplots(1, 2, figsize=(16,4))\n",
    "\n",
    "df.groupby(by=['state']).mean()['avg_salary'].sort_values().plot(kind='bar', ax=axs[0]);\n",
    "df.groupby(by=['city']).mean()['avg_salary'].sort_values().plot(ax=axs[1], rot=45);\n",
    "axs[0].set_title('Avg Salary per State');\n",
    "axs[1].set_title('Avg Salary per City');\n",
    "sns.despine()"
   ]
  },
  {
   "cell_type": "markdown",
   "metadata": {},
   "source": [
    "## Other"
   ]
  },
  {
   "cell_type": "code",
   "execution_count": null,
   "metadata": {},
   "outputs": [],
   "source": [
    "df.groupby('Size').mean()['avg_salary'].sort_values().reset_index().set_index('Size')"
   ]
  },
  {
   "cell_type": "code",
   "execution_count": null,
   "metadata": {},
   "outputs": [],
   "source": [
    "sns.distplot(df['Founded'], kde=False, bins=15)\n",
    "sns.despine()"
   ]
  },
  {
   "cell_type": "code",
   "execution_count": null,
   "metadata": {},
   "outputs": [],
   "source": [
    "plt.figure(figsize=(16,6))\n",
    "plt.title('Avg Salary per Founding Year')\n",
    "df.groupby('Founded').mean()['avg_salary'].plot()"
   ]
  },
  {
   "cell_type": "code",
   "execution_count": null,
   "metadata": {},
   "outputs": [],
   "source": [
    "df.groupby('Type of ownership').mean()['avg_salary'].sort_values().reset_index().set_index('Type of ownership')"
   ]
  },
  {
   "cell_type": "code",
   "execution_count": null,
   "metadata": {},
   "outputs": [],
   "source": [
    "df.groupby('Sector').mean()['avg_salary'].sort_values().reset_index().set_index('Sector')"
   ]
  },
  {
   "cell_type": "code",
   "execution_count": null,
   "metadata": {},
   "outputs": [],
   "source": [
    "df.groupby('Revenue').mean()['avg_salary'].sort_values().reset_index().set_index('Revenue')"
   ]
  },
  {
   "cell_type": "code",
   "execution_count": null,
   "metadata": {},
   "outputs": [],
   "source": [
    "corr = df[['Rating', 'Founded', 'avg_salary', 'len_description']].corr()\n",
    "plt.figure(figsize=(10,10))\n",
    "\n",
    "mask = np.triu(np.ones_like(corr, dtype=bool))\n",
    "cmap = sns.diverging_palette(220, 10, as_cmap=True)\n",
    "sns.heatmap(corr, cmap=cmap, square=True, linewidths=.5, cbar_kws={\"shrink\": .5}, annot=True)"
   ]
  },
  {
   "cell_type": "markdown",
   "metadata": {},
   "source": [
    "## Export Data"
   ]
  },
  {
   "cell_type": "code",
   "execution_count": null,
   "metadata": {},
   "outputs": [],
   "source": [
    "df.to_csv('glassdoor_data_eda.csv', index=False)"
   ]
  },
  {
   "cell_type": "code",
   "execution_count": null,
   "metadata": {},
   "outputs": [],
   "source": []
  }
 ],
 "metadata": {
  "hide_input": false,
  "kernelspec": {
   "display_name": "Python 3",
   "language": "python",
   "name": "python3"
  },
  "language_info": {
   "codemirror_mode": {
    "name": "ipython",
    "version": 3
   },
   "file_extension": ".py",
   "mimetype": "text/x-python",
   "name": "python",
   "nbconvert_exporter": "python",
   "pygments_lexer": "ipython3",
   "version": "3.8.5"
  }
 },
 "nbformat": 4,
 "nbformat_minor": 4
}
